{
 "cells": [
  {
   "cell_type": "code",
   "execution_count": 1,
   "metadata": {},
   "outputs": [],
   "source": [
    "import matplotlib.pyplot as plt\n",
    "import pandas as pd\n",
    "import numpy as np\n",
    "%matplotlib inline\n"
   ]
  },
  {
   "cell_type": "code",
   "execution_count": null,
   "metadata": {},
   "outputs": [],
   "source": [
    "import seaborn as sns\n",
    "from scipy import stats"
   ]
  },
  {
   "cell_type": "code",
   "execution_count": null,
   "metadata": {
    "collapsed": true
   },
   "outputs": [],
   "source": [
    "player_df = pd.read_csv('./data/player_data_04-2020.csv')\n",
    "print('original shape: {}'.format(player_df.shape))\n",
    "player_df = player_df.drop_duplicates(subset=\"Name\")\n",
    "print('shape after removing duplicates: {}'.format(player_df.shape))\n",
    "player_df = player_df[player_df['Overall'] != -1]\n",
    "print('shape after removing failed hiscores: {}'.format(player_df.shape))\n",
    "player_df.head()"
   ]
  },
  {
   "cell_type": "code",
   "execution_count": null,
   "metadata": {
    "collapsed": true
   },
   "outputs": [],
   "source": [
    "player_df.columns"
   ]
  },
  {
   "cell_type": "code",
   "execution_count": null,
   "metadata": {
    "collapsed": true
   },
   "outputs": [],
   "source": [
    "player_df['Magic'].round(decimals=-1).value_counts().sort_index(ascending=True)"
   ]
  },
  {
   "cell_type": "code",
   "execution_count": null,
   "metadata": {
    "collapsed": true
   },
   "outputs": [],
   "source": [
    "player_df['Mining'].round(decimals=-1).value_counts().sort_index(ascending=True).plot.bar()"
   ]
  },
  {
   "cell_type": "code",
   "execution_count": null,
   "metadata": {
    "collapsed": true
   },
   "outputs": [],
   "source": [
    "ge_df = player_df.loc[player_df['Location'] == 'ge']\n",
    "\n",
    "print(ge_df.shape)\n",
    "ge_df.head()"
   ]
  },
  {
   "cell_type": "code",
   "execution_count": null,
   "metadata": {
    "collapsed": true
   },
   "outputs": [],
   "source": [
    "ge_df['Mining'].round(decimals=-1).value_counts().sort_index(ascending=True).plot.bar()"
   ]
  },
  {
   "cell_type": "code",
   "execution_count": null,
   "metadata": {
    "collapsed": true
   },
   "outputs": [],
   "source": [
    "mining_df = player_df.loc[player_df['Location'] == 'mining']\n",
    "\n",
    "print(mining_df.shape)\n",
    "mining_df.head()"
   ]
  },
  {
   "cell_type": "code",
   "execution_count": null,
   "metadata": {
    "collapsed": true
   },
   "outputs": [],
   "source": [
    "mining_df['Mining'].round(decimals=-1).value_counts().sort_index(ascending=True).plot.bar()"
   ]
  },
  {
   "cell_type": "code",
   "execution_count": null,
   "metadata": {
    "collapsed": true
   },
   "outputs": [],
   "source": [
    "mining_df['Mining'].hist()"
   ]
  },
  {
   "cell_type": "code",
   "execution_count": null,
   "metadata": {
    "collapsed": true
   },
   "outputs": [],
   "source": [
    "f2p_array = ['Attack', 'Defence', 'Strength','Hitpoints', 'Ranged', 'Prayer', 'Magic', 'Cooking', 'Woodcutting',\\\n",
    "           'Runecrafting', 'Fishing', 'Firemaking', 'Crafting', 'Smithing', 'Mining']\n",
    "\n",
    "mining_df[f2p_array].hist(color='k', alpha=0.5, bins=10)"
   ]
  },
  {
   "cell_type": "code",
   "execution_count": null,
   "metadata": {
    "collapsed": true
   },
   "outputs": [],
   "source": [
    "for skill in f2p_array:\n",
    "    print(\"{}: {}\".format(skill, mining_df[skill].value_counts()[1]))"
   ]
  },
  {
   "cell_type": "code",
   "execution_count": null,
   "metadata": {
    "collapsed": true
   },
   "outputs": [],
   "source": []
  }
 ],
 "metadata": {
  "kernelspec": {
   "display_name": "Python 3",
   "language": "python",
   "name": "python3"
  },
  "language_info": {
   "codemirror_mode": {
    "name": "ipython",
    "version": 3
   },
   "file_extension": ".py",
   "mimetype": "text/x-python",
   "name": "python",
   "nbconvert_exporter": "python",
   "pygments_lexer": "ipython3",
   "version": "3.7.7"
  }
 },
 "nbformat": 4,
 "nbformat_minor": 2
}
