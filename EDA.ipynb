{
 "cells": [
  {
   "cell_type": "code",
   "execution_count": 1,
   "metadata": {
    "collapsed": true
   },
   "outputs": [],
   "source": [
    "import matplotlib.pyplot as plt\n",
    "import pandas as pd\n",
    "import numpy as np\n",
    "%matplotlib inline"
   ]
  },
  {
   "cell_type": "code",
   "execution_count": 2,
   "metadata": {},
   "outputs": [
    {
     "name": "stdout",
     "output_type": "stream",
     "text": [
      "(2429, 41)\n",
      "(2320, 41)\n"
     ]
    },
    {
     "data": {
      "text/html": [
       "<div>\n",
       "<style scoped>\n",
       "    .dataframe tbody tr th:only-of-type {\n",
       "        vertical-align: middle;\n",
       "    }\n",
       "\n",
       "    .dataframe tbody tr th {\n",
       "        vertical-align: top;\n",
       "    }\n",
       "\n",
       "    .dataframe thead th {\n",
       "        text-align: right;\n",
       "    }\n",
       "</style>\n",
       "<table border=\"1\" class=\"dataframe\">\n",
       "  <thead>\n",
       "    <tr style=\"text-align: right;\">\n",
       "      <th></th>\n",
       "      <th>Name</th>\n",
       "      <th>Equip1</th>\n",
       "      <th>Equip2</th>\n",
       "      <th>Equip3</th>\n",
       "      <th>Equip4</th>\n",
       "      <th>Equip5</th>\n",
       "      <th>Equip6</th>\n",
       "      <th>Equip7</th>\n",
       "      <th>Equip8</th>\n",
       "      <th>Equip9</th>\n",
       "      <th>...</th>\n",
       "      <th>Mining</th>\n",
       "      <th>Herblore</th>\n",
       "      <th>Agility</th>\n",
       "      <th>Thieving</th>\n",
       "      <th>Slayer</th>\n",
       "      <th>Farming</th>\n",
       "      <th>Runecrafting</th>\n",
       "      <th>Hunter</th>\n",
       "      <th>Construction</th>\n",
       "      <th>Location</th>\n",
       "    </tr>\n",
       "  </thead>\n",
       "  <tbody>\n",
       "    <tr>\n",
       "      <th>0</th>\n",
       "      <td>Aweb0kz</td>\n",
       "      <td>-1</td>\n",
       "      <td>-1</td>\n",
       "      <td>-1</td>\n",
       "      <td>-1</td>\n",
       "      <td>-1</td>\n",
       "      <td>-1</td>\n",
       "      <td>-1</td>\n",
       "      <td>-1</td>\n",
       "      <td>-1</td>\n",
       "      <td>...</td>\n",
       "      <td>60</td>\n",
       "      <td>1</td>\n",
       "      <td>1</td>\n",
       "      <td>1</td>\n",
       "      <td>1</td>\n",
       "      <td>1</td>\n",
       "      <td>1</td>\n",
       "      <td>1</td>\n",
       "      <td>1</td>\n",
       "      <td>ge</td>\n",
       "    </tr>\n",
       "    <tr>\n",
       "      <th>1</th>\n",
       "      <td>Popeye2018</td>\n",
       "      <td>-1</td>\n",
       "      <td>-1</td>\n",
       "      <td>1660</td>\n",
       "      <td>853</td>\n",
       "      <td>-1</td>\n",
       "      <td>-1</td>\n",
       "      <td>-1</td>\n",
       "      <td>1099</td>\n",
       "      <td>-1</td>\n",
       "      <td>...</td>\n",
       "      <td>83</td>\n",
       "      <td>1</td>\n",
       "      <td>10</td>\n",
       "      <td>1</td>\n",
       "      <td>1</td>\n",
       "      <td>1</td>\n",
       "      <td>30</td>\n",
       "      <td>1</td>\n",
       "      <td>1</td>\n",
       "      <td>ge</td>\n",
       "    </tr>\n",
       "    <tr>\n",
       "      <th>2</th>\n",
       "      <td>ImFatNotCute</td>\n",
       "      <td>-1</td>\n",
       "      <td>-1</td>\n",
       "      <td>-1</td>\n",
       "      <td>-1</td>\n",
       "      <td>-1</td>\n",
       "      <td>-1</td>\n",
       "      <td>-1</td>\n",
       "      <td>-1</td>\n",
       "      <td>-1</td>\n",
       "      <td>...</td>\n",
       "      <td>41</td>\n",
       "      <td>30</td>\n",
       "      <td>25</td>\n",
       "      <td>20</td>\n",
       "      <td>63</td>\n",
       "      <td>17</td>\n",
       "      <td>9</td>\n",
       "      <td>1</td>\n",
       "      <td>1</td>\n",
       "      <td>ge</td>\n",
       "    </tr>\n",
       "    <tr>\n",
       "      <th>3</th>\n",
       "      <td>PappoSeco</td>\n",
       "      <td>-1</td>\n",
       "      <td>-1</td>\n",
       "      <td>-1</td>\n",
       "      <td>-1</td>\n",
       "      <td>-1</td>\n",
       "      <td>-1</td>\n",
       "      <td>-1</td>\n",
       "      <td>-1</td>\n",
       "      <td>-1</td>\n",
       "      <td>...</td>\n",
       "      <td>41</td>\n",
       "      <td>1</td>\n",
       "      <td>1</td>\n",
       "      <td>1</td>\n",
       "      <td>1</td>\n",
       "      <td>1</td>\n",
       "      <td>1</td>\n",
       "      <td>1</td>\n",
       "      <td>1</td>\n",
       "      <td>ge</td>\n",
       "    </tr>\n",
       "    <tr>\n",
       "      <th>4</th>\n",
       "      <td>GB Justin</td>\n",
       "      <td>-1</td>\n",
       "      <td>-1</td>\n",
       "      <td>-1</td>\n",
       "      <td>1381</td>\n",
       "      <td>-1</td>\n",
       "      <td>-1</td>\n",
       "      <td>-1</td>\n",
       "      <td>-1</td>\n",
       "      <td>-1</td>\n",
       "      <td>...</td>\n",
       "      <td>1</td>\n",
       "      <td>1</td>\n",
       "      <td>37</td>\n",
       "      <td>19</td>\n",
       "      <td>33</td>\n",
       "      <td>1</td>\n",
       "      <td>1</td>\n",
       "      <td>1</td>\n",
       "      <td>27</td>\n",
       "      <td>ge</td>\n",
       "    </tr>\n",
       "  </tbody>\n",
       "</table>\n",
       "<p>5 rows × 41 columns</p>\n",
       "</div>"
      ],
      "text/plain": [
       "           Name  Equip1  Equip2  Equip3  Equip4  Equip5  Equip6  Equip7  \\\n",
       "0       Aweb0kz      -1      -1      -1      -1      -1      -1      -1   \n",
       "1    Popeye2018      -1      -1    1660     853      -1      -1      -1   \n",
       "2  ImFatNotCute      -1      -1      -1      -1      -1      -1      -1   \n",
       "3     PappoSeco      -1      -1      -1      -1      -1      -1      -1   \n",
       "4     GB Justin      -1      -1      -1    1381      -1      -1      -1   \n",
       "\n",
       "   Equip8  Equip9  ...  Mining  Herblore  Agility  Thieving  Slayer  Farming  \\\n",
       "0      -1      -1  ...      60         1        1         1       1        1   \n",
       "1    1099      -1  ...      83         1       10         1       1        1   \n",
       "2      -1      -1  ...      41        30       25        20      63       17   \n",
       "3      -1      -1  ...      41         1        1         1       1        1   \n",
       "4      -1      -1  ...       1         1       37        19      33        1   \n",
       "\n",
       "   Runecrafting  Hunter  Construction  Location  \n",
       "0             1       1             1        ge  \n",
       "1            30       1             1        ge  \n",
       "2             9       1             1        ge  \n",
       "3             1       1             1        ge  \n",
       "4             1       1            27        ge  \n",
       "\n",
       "[5 rows x 41 columns]"
      ]
     },
     "execution_count": 2,
     "metadata": {},
     "output_type": "execute_result"
    }
   ],
   "source": [
    "player_df = pd.read_csv('./data/player_data_04-2020.csv')\n",
    "print(player_df.shape)\n",
    "player_df = player_df.drop_duplicates(subset=\"Name\")\n",
    "print(player_df.shape)\n",
    "player_df.head()"
   ]
  },
  {
   "cell_type": "code",
   "execution_count": 3,
   "metadata": {},
   "outputs": [
    {
     "data": {
      "text/plain": [
       "Index(['Name', 'Equip1', 'Equip2', 'Equip3', 'Equip4', 'Equip5', 'Equip6',\n",
       "       'Equip7', 'Equip8', 'Equip9', 'Equip10', 'Equip11', 'Equip12', 'Loc_x',\n",
       "       'Loc_y', 'Anim_id', 'Overall', 'Attack', 'Defence', 'Strength',\n",
       "       'Hitpoints', 'Ranged', 'Prayer', 'Magic', 'Cooking', 'Woodcutting',\n",
       "       'Fletching', 'Fishing', 'Firemaking', 'Crafting', 'Smithing', 'Mining',\n",
       "       'Herblore', 'Agility', 'Thieving', 'Slayer', 'Farming', 'Runecrafting',\n",
       "       'Hunter', 'Construction', 'Location'],\n",
       "      dtype='object')"
      ]
     },
     "execution_count": 3,
     "metadata": {},
     "output_type": "execute_result"
    }
   ],
   "source": [
    "player_df.columns"
   ]
  },
  {
   "cell_type": "code",
   "execution_count": 4,
   "metadata": {},
   "outputs": [
    {
     "data": {
      "text/plain": [
       "0      791\n",
       "10     113\n",
       "20     111\n",
       "30     133\n",
       "40     264\n",
       "50     192\n",
       "60     231\n",
       "70     117\n",
       "80     160\n",
       "90     114\n",
       "100     94\n",
       "Name: Magic, dtype: int64"
      ]
     },
     "execution_count": 4,
     "metadata": {},
     "output_type": "execute_result"
    }
   ],
   "source": [
    "player_df['Magic'].round(decimals=-1).value_counts().sort_index(ascending=True)"
   ]
  },
  {
   "cell_type": "code",
   "execution_count": 5,
   "metadata": {},
   "outputs": [
    {
     "data": {
      "text/plain": [
       "<matplotlib.axes._subplots.AxesSubplot at 0x1f023e22f98>"
      ]
     },
     "execution_count": 5,
     "metadata": {},
     "output_type": "execute_result"
    },
    {
     "data": {
      "image/png": "[encoded data removed]",
      "text/plain": [
       "<Figure size 432x288 with 1 Axes>"
      ]
     },
     "metadata": {
      "needs_background": "light"
     },
     "output_type": "display_data"
    }
   ],
   "source": [
    "player_df['Mining'].round(decimals=-1).value_counts().sort_index(ascending=True).plot.bar()"
   ]
  },
  {
   "cell_type": "code",
   "execution_count": 6,
   "metadata": {},
   "outputs": [
    {
     "name": "stdout",
     "output_type": "stream",
     "text": [
      "(791, 41)\n"
     ]
    },
    {
     "data": {
      "text/html": [
       "<div>\n",
       "<style scoped>\n",
       "    .dataframe tbody tr th:only-of-type {\n",
       "        vertical-align: middle;\n",
       "    }\n",
       "\n",
       "    .dataframe tbody tr th {\n",
       "        vertical-align: top;\n",
       "    }\n",
       "\n",
       "    .dataframe thead th {\n",
       "        text-align: right;\n",
       "    }\n",
       "</style>\n",
       "<table border=\"1\" class=\"dataframe\">\n",
       "  <thead>\n",
       "    <tr style=\"text-align: right;\">\n",
       "      <th></th>\n",
       "      <th>Name</th>\n",
       "      <th>Equip1</th>\n",
       "      <th>Equip2</th>\n",
       "      <th>Equip3</th>\n",
       "      <th>Equip4</th>\n",
       "      <th>Equip5</th>\n",
       "      <th>Equip6</th>\n",
       "      <th>Equip7</th>\n",
       "      <th>Equip8</th>\n",
       "      <th>Equip9</th>\n",
       "      <th>...</th>\n",
       "      <th>Mining</th>\n",
       "      <th>Herblore</th>\n",
       "      <th>Agility</th>\n",
       "      <th>Thieving</th>\n",
       "      <th>Slayer</th>\n",
       "      <th>Farming</th>\n",
       "      <th>Runecrafting</th>\n",
       "      <th>Hunter</th>\n",
       "      <th>Construction</th>\n",
       "      <th>Location</th>\n",
       "    </tr>\n",
       "  </thead>\n",
       "  <tbody>\n",
       "    <tr>\n",
       "      <th>0</th>\n",
       "      <td>Aweb0kz</td>\n",
       "      <td>-1</td>\n",
       "      <td>-1</td>\n",
       "      <td>-1</td>\n",
       "      <td>-1</td>\n",
       "      <td>-1</td>\n",
       "      <td>-1</td>\n",
       "      <td>-1</td>\n",
       "      <td>-1</td>\n",
       "      <td>-1</td>\n",
       "      <td>...</td>\n",
       "      <td>60</td>\n",
       "      <td>1</td>\n",
       "      <td>1</td>\n",
       "      <td>1</td>\n",
       "      <td>1</td>\n",
       "      <td>1</td>\n",
       "      <td>1</td>\n",
       "      <td>1</td>\n",
       "      <td>1</td>\n",
       "      <td>ge</td>\n",
       "    </tr>\n",
       "    <tr>\n",
       "      <th>1</th>\n",
       "      <td>Popeye2018</td>\n",
       "      <td>-1</td>\n",
       "      <td>-1</td>\n",
       "      <td>1660</td>\n",
       "      <td>853</td>\n",
       "      <td>-1</td>\n",
       "      <td>-1</td>\n",
       "      <td>-1</td>\n",
       "      <td>1099</td>\n",
       "      <td>-1</td>\n",
       "      <td>...</td>\n",
       "      <td>83</td>\n",
       "      <td>1</td>\n",
       "      <td>10</td>\n",
       "      <td>1</td>\n",
       "      <td>1</td>\n",
       "      <td>1</td>\n",
       "      <td>30</td>\n",
       "      <td>1</td>\n",
       "      <td>1</td>\n",
       "      <td>ge</td>\n",
       "    </tr>\n",
       "    <tr>\n",
       "      <th>2</th>\n",
       "      <td>ImFatNotCute</td>\n",
       "      <td>-1</td>\n",
       "      <td>-1</td>\n",
       "      <td>-1</td>\n",
       "      <td>-1</td>\n",
       "      <td>-1</td>\n",
       "      <td>-1</td>\n",
       "      <td>-1</td>\n",
       "      <td>-1</td>\n",
       "      <td>-1</td>\n",
       "      <td>...</td>\n",
       "      <td>41</td>\n",
       "      <td>30</td>\n",
       "      <td>25</td>\n",
       "      <td>20</td>\n",
       "      <td>63</td>\n",
       "      <td>17</td>\n",
       "      <td>9</td>\n",
       "      <td>1</td>\n",
       "      <td>1</td>\n",
       "      <td>ge</td>\n",
       "    </tr>\n",
       "    <tr>\n",
       "      <th>3</th>\n",
       "      <td>PappoSeco</td>\n",
       "      <td>-1</td>\n",
       "      <td>-1</td>\n",
       "      <td>-1</td>\n",
       "      <td>-1</td>\n",
       "      <td>-1</td>\n",
       "      <td>-1</td>\n",
       "      <td>-1</td>\n",
       "      <td>-1</td>\n",
       "      <td>-1</td>\n",
       "      <td>...</td>\n",
       "      <td>41</td>\n",
       "      <td>1</td>\n",
       "      <td>1</td>\n",
       "      <td>1</td>\n",
       "      <td>1</td>\n",
       "      <td>1</td>\n",
       "      <td>1</td>\n",
       "      <td>1</td>\n",
       "      <td>1</td>\n",
       "      <td>ge</td>\n",
       "    </tr>\n",
       "    <tr>\n",
       "      <th>4</th>\n",
       "      <td>GB Justin</td>\n",
       "      <td>-1</td>\n",
       "      <td>-1</td>\n",
       "      <td>-1</td>\n",
       "      <td>1381</td>\n",
       "      <td>-1</td>\n",
       "      <td>-1</td>\n",
       "      <td>-1</td>\n",
       "      <td>-1</td>\n",
       "      <td>-1</td>\n",
       "      <td>...</td>\n",
       "      <td>1</td>\n",
       "      <td>1</td>\n",
       "      <td>37</td>\n",
       "      <td>19</td>\n",
       "      <td>33</td>\n",
       "      <td>1</td>\n",
       "      <td>1</td>\n",
       "      <td>1</td>\n",
       "      <td>27</td>\n",
       "      <td>ge</td>\n",
       "    </tr>\n",
       "  </tbody>\n",
       "</table>\n",
       "<p>5 rows × 41 columns</p>\n",
       "</div>"
      ],
      "text/plain": [
       "           Name  Equip1  Equip2  Equip3  Equip4  Equip5  Equip6  Equip7  \\\n",
       "0       Aweb0kz      -1      -1      -1      -1      -1      -1      -1   \n",
       "1    Popeye2018      -1      -1    1660     853      -1      -1      -1   \n",
       "2  ImFatNotCute      -1      -1      -1      -1      -1      -1      -1   \n",
       "3     PappoSeco      -1      -1      -1      -1      -1      -1      -1   \n",
       "4     GB Justin      -1      -1      -1    1381      -1      -1      -1   \n",
       "\n",
       "   Equip8  Equip9  ...  Mining  Herblore  Agility  Thieving  Slayer  Farming  \\\n",
       "0      -1      -1  ...      60         1        1         1       1        1   \n",
       "1    1099      -1  ...      83         1       10         1       1        1   \n",
       "2      -1      -1  ...      41        30       25        20      63       17   \n",
       "3      -1      -1  ...      41         1        1         1       1        1   \n",
       "4      -1      -1  ...       1         1       37        19      33        1   \n",
       "\n",
       "   Runecrafting  Hunter  Construction  Location  \n",
       "0             1       1             1        ge  \n",
       "1            30       1             1        ge  \n",
       "2             9       1             1        ge  \n",
       "3             1       1             1        ge  \n",
       "4             1       1            27        ge  \n",
       "\n",
       "[5 rows x 41 columns]"
      ]
     },
     "execution_count": 6,
     "metadata": {},
     "output_type": "execute_result"
    }
   ],
   "source": [
    "ge_df = player_df.loc[player_df['Location'] == 'ge']\n",
    "\n",
    "print(ge_df.shape)\n",
    "ge_df.head()"
   ]
  },
  {
   "cell_type": "code",
   "execution_count": 7,
   "metadata": {},
   "outputs": [
    {
     "data": {
      "text/plain": [
       "<matplotlib.axes._subplots.AxesSubplot at 0x1f025f72940>"
      ]
     },
     "execution_count": 7,
     "metadata": {},
     "output_type": "execute_result"
    },
    {
     "data": {
      "image/png": "[encoded data removed]",
      "text/plain": [
       "<Figure size 432x288 with 1 Axes>"
      ]
     },
     "metadata": {
      "needs_background": "light"
     },
     "output_type": "display_data"
    }
   ],
   "source": [
    "ge_df['Mining'].round(decimals=-1).value_counts().sort_index(ascending=True).plot.bar()"
   ]
  },
  {
   "cell_type": "code",
   "execution_count": 8,
   "metadata": {},
   "outputs": [
    {
     "name": "stdout",
     "output_type": "stream",
     "text": [
      "(370, 41)\n"
     ]
    },
    {
     "data": {
      "text/html": [
       "<div>\n",
       "<style scoped>\n",
       "    .dataframe tbody tr th:only-of-type {\n",
       "        vertical-align: middle;\n",
       "    }\n",
       "\n",
       "    .dataframe tbody tr th {\n",
       "        vertical-align: top;\n",
       "    }\n",
       "\n",
       "    .dataframe thead th {\n",
       "        text-align: right;\n",
       "    }\n",
       "</style>\n",
       "<table border=\"1\" class=\"dataframe\">\n",
       "  <thead>\n",
       "    <tr style=\"text-align: right;\">\n",
       "      <th></th>\n",
       "      <th>Name</th>\n",
       "      <th>Equip1</th>\n",
       "      <th>Equip2</th>\n",
       "      <th>Equip3</th>\n",
       "      <th>Equip4</th>\n",
       "      <th>Equip5</th>\n",
       "      <th>Equip6</th>\n",
       "      <th>Equip7</th>\n",
       "      <th>Equip8</th>\n",
       "      <th>Equip9</th>\n",
       "      <th>...</th>\n",
       "      <th>Mining</th>\n",
       "      <th>Herblore</th>\n",
       "      <th>Agility</th>\n",
       "      <th>Thieving</th>\n",
       "      <th>Slayer</th>\n",
       "      <th>Farming</th>\n",
       "      <th>Runecrafting</th>\n",
       "      <th>Hunter</th>\n",
       "      <th>Construction</th>\n",
       "      <th>Location</th>\n",
       "    </tr>\n",
       "  </thead>\n",
       "  <tbody>\n",
       "    <tr>\n",
       "      <th>1435</th>\n",
       "      <td>Brad sux</td>\n",
       "      <td>1042</td>\n",
       "      <td>1021</td>\n",
       "      <td>1718</td>\n",
       "      <td>1273</td>\n",
       "      <td>-1</td>\n",
       "      <td>-1</td>\n",
       "      <td>-1</td>\n",
       "      <td>1011</td>\n",
       "      <td>-1</td>\n",
       "      <td>...</td>\n",
       "      <td>21</td>\n",
       "      <td>4</td>\n",
       "      <td>30</td>\n",
       "      <td>16</td>\n",
       "      <td>35</td>\n",
       "      <td>1</td>\n",
       "      <td>1</td>\n",
       "      <td>1</td>\n",
       "      <td>1</td>\n",
       "      <td>mining</td>\n",
       "    </tr>\n",
       "    <tr>\n",
       "      <th>1436</th>\n",
       "      <td>deme1994</td>\n",
       "      <td>1137</td>\n",
       "      <td>1019</td>\n",
       "      <td>1009</td>\n",
       "      <td>1265</td>\n",
       "      <td>1119</td>\n",
       "      <td>1189</td>\n",
       "      <td>-1</td>\n",
       "      <td>1067</td>\n",
       "      <td>-1</td>\n",
       "      <td>...</td>\n",
       "      <td>24</td>\n",
       "      <td>1</td>\n",
       "      <td>1</td>\n",
       "      <td>1</td>\n",
       "      <td>1</td>\n",
       "      <td>1</td>\n",
       "      <td>2</td>\n",
       "      <td>1</td>\n",
       "      <td>1</td>\n",
       "      <td>mining</td>\n",
       "    </tr>\n",
       "    <tr>\n",
       "      <th>1437</th>\n",
       "      <td>Prisco50</td>\n",
       "      <td>-1</td>\n",
       "      <td>-1</td>\n",
       "      <td>-1</td>\n",
       "      <td>1275</td>\n",
       "      <td>-1</td>\n",
       "      <td>-1</td>\n",
       "      <td>-1</td>\n",
       "      <td>-1</td>\n",
       "      <td>-1</td>\n",
       "      <td>...</td>\n",
       "      <td>61</td>\n",
       "      <td>1</td>\n",
       "      <td>1</td>\n",
       "      <td>1</td>\n",
       "      <td>1</td>\n",
       "      <td>1</td>\n",
       "      <td>1</td>\n",
       "      <td>1</td>\n",
       "      <td>1</td>\n",
       "      <td>mining</td>\n",
       "    </tr>\n",
       "    <tr>\n",
       "      <th>1438</th>\n",
       "      <td>TGIF2k20</td>\n",
       "      <td>1159</td>\n",
       "      <td>13679</td>\n",
       "      <td>1478</td>\n",
       "      <td>1329</td>\n",
       "      <td>1121</td>\n",
       "      <td>1197</td>\n",
       "      <td>-1</td>\n",
       "      <td>1071</td>\n",
       "      <td>-1</td>\n",
       "      <td>...</td>\n",
       "      <td>44</td>\n",
       "      <td>1</td>\n",
       "      <td>1</td>\n",
       "      <td>1</td>\n",
       "      <td>1</td>\n",
       "      <td>1</td>\n",
       "      <td>15</td>\n",
       "      <td>1</td>\n",
       "      <td>1</td>\n",
       "      <td>mining</td>\n",
       "    </tr>\n",
       "    <tr>\n",
       "      <th>1439</th>\n",
       "      <td>Webkinz138</td>\n",
       "      <td>1159</td>\n",
       "      <td>1007</td>\n",
       "      <td>-1</td>\n",
       "      <td>1265</td>\n",
       "      <td>1121</td>\n",
       "      <td>1197</td>\n",
       "      <td>-1</td>\n",
       "      <td>12289</td>\n",
       "      <td>-1</td>\n",
       "      <td>...</td>\n",
       "      <td>1</td>\n",
       "      <td>1</td>\n",
       "      <td>1</td>\n",
       "      <td>1</td>\n",
       "      <td>1</td>\n",
       "      <td>1</td>\n",
       "      <td>8</td>\n",
       "      <td>1</td>\n",
       "      <td>1</td>\n",
       "      <td>mining</td>\n",
       "    </tr>\n",
       "  </tbody>\n",
       "</table>\n",
       "<p>5 rows × 41 columns</p>\n",
       "</div>"
      ],
      "text/plain": [
       "            Name  Equip1  Equip2  Equip3  Equip4  Equip5  Equip6  Equip7  \\\n",
       "1435    Brad sux    1042    1021    1718    1273      -1      -1      -1   \n",
       "1436    deme1994    1137    1019    1009    1265    1119    1189      -1   \n",
       "1437    Prisco50      -1      -1      -1    1275      -1      -1      -1   \n",
       "1438    TGIF2k20    1159   13679    1478    1329    1121    1197      -1   \n",
       "1439  Webkinz138    1159    1007      -1    1265    1121    1197      -1   \n",
       "\n",
       "      Equip8  Equip9  ...  Mining  Herblore  Agility  Thieving  Slayer  \\\n",
       "1435    1011      -1  ...      21         4       30        16      35   \n",
       "1436    1067      -1  ...      24         1        1         1       1   \n",
       "1437      -1      -1  ...      61         1        1         1       1   \n",
       "1438    1071      -1  ...      44         1        1         1       1   \n",
       "1439   12289      -1  ...       1         1        1         1       1   \n",
       "\n",
       "      Farming  Runecrafting  Hunter  Construction  Location  \n",
       "1435        1             1       1             1    mining  \n",
       "1436        1             2       1             1    mining  \n",
       "1437        1             1       1             1    mining  \n",
       "1438        1            15       1             1    mining  \n",
       "1439        1             8       1             1    mining  \n",
       "\n",
       "[5 rows x 41 columns]"
      ]
     },
     "execution_count": 8,
     "metadata": {},
     "output_type": "execute_result"
    }
   ],
   "source": [
    "mining_df = player_df.loc[player_df['Location'] == 'mining']\n",
    "\n",
    "print(mining_df.shape)\n",
    "mining_df.head()"
   ]
  },
  {
   "cell_type": "code",
   "execution_count": 9,
   "metadata": {},
   "outputs": [
    {
     "data": {
      "text/plain": [
       "<matplotlib.axes._subplots.AxesSubplot at 0x1f026fe06d8>"
      ]
     },
     "execution_count": 9,
     "metadata": {},
     "output_type": "execute_result"
    },
    {
     "data": {
      "image/png": "[encoded data removed]",
      "text/plain": [
       "<Figure size 432x288 with 1 Axes>"
      ]
     },
     "metadata": {
      "needs_background": "light"
     },
     "output_type": "display_data"
    }
   ],
   "source": [
    "mining_df['Mining'].round(decimals=-1).value_counts().sort_index(ascending=True).plot.bar()"
   ]
  },
  {
   "cell_type": "code",
   "execution_count": 11,
   "metadata": {},
   "outputs": [
    {
     "data": {
      "text/plain": [
       "<matplotlib.axes._subplots.AxesSubplot at 0x1f0270e7fd0>"
      ]
     },
     "execution_count": 11,
     "metadata": {},
     "output_type": "execute_result"
    },
    {
     "data": {
      "image/png": "[encoded data removed]",
      "text/plain": [
       "<Figure size 432x288 with 1 Axes>"
      ]
     },
     "metadata": {
      "needs_background": "light"
     },
     "output_type": "display_data"
    }
   ],
   "source": [
    "mining_df['Mining'].hist()"
   ]
  },
  {
   "cell_type": "code",
   "execution_count": 12,
   "metadata": {},
   "outputs": [
    {
     "name": "stderr",
     "output_type": "stream",
     "text": [
      "C:\\Users\\User\\AppData\\Roaming\\Python\\Python36\\site-packages\\pandas\\plotting\\_matplotlib\\tools.py:298: MatplotlibDeprecationWarning: \n",
      "The rowNum attribute was deprecated in Matplotlib 3.2 and will be removed two minor releases later. Use ax.get_subplotspec().rowspan.start instead.\n",
      "  layout[ax.rowNum, ax.colNum] = ax.get_visible()\n",
      "C:\\Users\\User\\AppData\\Roaming\\Python\\Python36\\site-packages\\pandas\\plotting\\_matplotlib\\tools.py:298: MatplotlibDeprecationWarning: \n",
      "The colNum attribute was deprecated in Matplotlib 3.2 and will be removed two minor releases later. Use ax.get_subplotspec().colspan.start instead.\n",
      "  layout[ax.rowNum, ax.colNum] = ax.get_visible()\n",
      "C:\\Users\\User\\AppData\\Roaming\\Python\\Python36\\site-packages\\pandas\\plotting\\_matplotlib\\tools.py:304: MatplotlibDeprecationWarning: \n",
      "The rowNum attribute was deprecated in Matplotlib 3.2 and will be removed two minor releases later. Use ax.get_subplotspec().rowspan.start instead.\n",
      "  if not layout[ax.rowNum + 1, ax.colNum]:\n",
      "C:\\Users\\User\\AppData\\Roaming\\Python\\Python36\\site-packages\\pandas\\plotting\\_matplotlib\\tools.py:304: MatplotlibDeprecationWarning: \n",
      "The colNum attribute was deprecated in Matplotlib 3.2 and will be removed two minor releases later. Use ax.get_subplotspec().colspan.start instead.\n",
      "  if not layout[ax.rowNum + 1, ax.colNum]:\n"
     ]
    },
    {
     "data": {
      "text/plain": [
       "array([[<matplotlib.axes._subplots.AxesSubplot object at 0x000001F023D74A90>,\n",
       "        <matplotlib.axes._subplots.AxesSubplot object at 0x000001F02718A4E0>,\n",
       "        <matplotlib.axes._subplots.AxesSubplot object at 0x000001F0271BD748>,\n",
       "        <matplotlib.axes._subplots.AxesSubplot object at 0x000001F0271F39B0>],\n",
       "       [<matplotlib.axes._subplots.AxesSubplot object at 0x000001F027227C18>,\n",
       "        <matplotlib.axes._subplots.AxesSubplot object at 0x000001F02725BE80>,\n",
       "        <matplotlib.axes._subplots.AxesSubplot object at 0x000001F02729B128>,\n",
       "        <matplotlib.axes._subplots.AxesSubplot object at 0x000001F0272CF358>],\n",
       "       [<matplotlib.axes._subplots.AxesSubplot object at 0x000001F0272CF3C8>,\n",
       "        <matplotlib.axes._subplots.AxesSubplot object at 0x000001F027338860>,\n",
       "        <matplotlib.axes._subplots.AxesSubplot object at 0x000001F02736DAC8>,\n",
       "        <matplotlib.axes._subplots.AxesSubplot object at 0x000001F0273A7208>],\n",
       "       [<matplotlib.axes._subplots.AxesSubplot object at 0x000001F0273DC588>,\n",
       "        <matplotlib.axes._subplots.AxesSubplot object at 0x000001F02740C908>,\n",
       "        <matplotlib.axes._subplots.AxesSubplot object at 0x000001F02743EC88>,\n",
       "        <matplotlib.axes._subplots.AxesSubplot object at 0x000001F027470FD0>]],\n",
       "      dtype=object)"
      ]
     },
     "execution_count": 12,
     "metadata": {},
     "output_type": "execute_result"
    },
    {
     "data": {
      "image/png": "[encoded data removed]",
      "text/plain": [
       "<Figure size 432x288 with 16 Axes>"
      ]
     },
     "metadata": {
      "needs_background": "light"
     },
     "output_type": "display_data"
    }
   ],
   "source": [
    "mining_df[['Attack', 'Defence', 'Strength','Hitpoints', 'Ranged', 'Prayer', 'Magic', 'Cooking', 'Woodcutting',\\\n",
    "           'Fletching', 'Fishing', 'Firemaking', 'Crafting', 'Smithing', 'Mining']].hist(color='k', alpha=0.5, bins=50)"
   ]
  },
  {
   "cell_type": "code",
   "execution_count": null,
   "metadata": {
    "collapsed": true
   },
   "outputs": [],
   "source": []
  }
 ],
 "metadata": {
  "kernelspec": {
   "display_name": "Python 3",
   "language": "python",
   "name": "python3"
  },
  "language_info": {
   "codemirror_mode": {
    "name": "ipython",
    "version": 3
   },
   "file_extension": ".py",
   "mimetype": "text/x-python",
   "name": "python",
   "nbconvert_exporter": "python",
   "pygments_lexer": "ipython3",
   "version": "3.6.3"
  }
 },
 "nbformat": 4,
 "nbformat_minor": 2
}
